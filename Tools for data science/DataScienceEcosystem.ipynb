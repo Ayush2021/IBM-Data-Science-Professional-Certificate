{
 "cells": [
  {
   "cell_type": "markdown",
   "id": "05d87bac",
   "metadata": {},
   "source": [
    " ## Data Science Tools and Ecosystem"
   ]
  },
  {
   "cell_type": "markdown",
   "id": "2ae2fea4",
   "metadata": {},
   "source": [
    "In this notebook, we will delve into the fascinating world of data science tools and the rich ecosystem that empowers data scientists to extract insights, make predictions, and drive informed decisions. Data science has evolved into a multidisciplinary field that combines expertise in programming, mathematics, statistics, and domain knowledge to uncover hidden patterns in data.\n",
    "\n",
    "Throughout this exploration, we aim to achieve the following objectives:\n",
    "\n",
    "List Popular Languages: We will identify and discuss the popular programming languages that data scientists frequently employ as their tools of choice. These languages serve as the foundation for data analysis, machine learning, and data visualization.\n",
    "\n",
    "List Commonly Used Libraries: We will highlight the essential libraries and frameworks that data scientists rely on to streamline their work. These libraries provide powerful tools for tasks such as data manipulation, statistical analysis, and building machine learning models.\n",
    "\n",
    "Comment on Data Science Tools: We will offer insights and commentary on the broader ecosystem of data science tools. This includes data visualization tools, integrated development environments (IDEs), and platforms that facilitate collaborative data science projects."
   ]
  },
  {
   "cell_type": "markdown",
   "id": "271a2c2c",
   "metadata": {},
   "source": [
    "The popular Data Science languages are:\n",
    "\n",
    "1. SQL\n",
    "2. Python \n",
    "3. R Programming\n",
    "4. Java/ Java Script\n",
    "5. C/C++\n",
    "6. Julia"
   ]
  },
  {
   "cell_type": "markdown",
   "id": "60a05902",
   "metadata": {},
   "source": [
    "Commom liberaries used by Data Scientist included:\n",
    "\n",
    "1. Numpy \n",
    "2. Scipy\n",
    "3. PyTorch\n",
    "4. PyBrain\n",
    "5. Pandas \n",
    "6. Matplotlib\n",
    "7. ggplot\n",
    "8. Keras \n",
    "9. Tensorflow\n",
    "10. Scikit Learn\n",
    "11. dplyr\n",
    "12. Seaborn"
   ]
  },
  {
   "cell_type": "markdown",
   "id": "6d4c36c7",
   "metadata": {},
   "source": [
    "| Data Science Tools |\n",
    "| ----------------- |\n",
    "| Python            |\n",
    "| R                 |\n",
    "| Jupyter Notebook  |\n",
    "| TensorFlow        |\n",
    "| PyTorch           |\n",
    "| Scikit-Learn      |\n",
    "| Pandas            |\n",
    "| NumPy             |\n",
    "| Matplotlib        |\n",
    "| Seaborn           |\n",
    "| Plotly            |\n",
    "| Tableau           |\n",
    "| Power BI          |\n",
    "| Apache Spark      |\n",
    "| Hadoop            |\n",
    "| SQL               |\n",
    "| Git               |\n",
    "| Docker            |\n",
    "| Kubernetes        |\n"
   ]
  },
  {
   "cell_type": "markdown",
   "id": "188061be",
   "metadata": {},
   "source": [
    "# Arithmetic Expression Examples\n",
    "\n",
    "Arithmetic expressions are fundamental in mathematics and computer science. They involve the use of mathematical operations to perform calculations. Here are some common arithmetic operations and examples:\n",
    "\n",
    "## Addition\n",
    "\n",
    "Addition is the process of combining two or more numbers to find their sum.\n",
    "\n",
    "Example: \\(3 + 5 = 8\\)\n",
    "\n",
    "## Subtraction\n",
    "\n",
    "Subtraction is the process of finding the difference between two numbers.\n",
    "\n",
    "Example: \\(9 - 4 = 5\\)\n",
    "\n",
    "## Multiplication\n",
    "\n",
    "Multiplication is the process of repeated addition. It is used to find the result of scaling one number by another.\n",
    "\n",
    "Example: \\(6 \\times 7 = 42\\)\n",
    "\n",
    "## Division\n",
    "\n",
    "Division is the process of splitting a quantity into equal parts or finding out how many times one number is contained within another.\n",
    "\n",
    "Example: \\(20 \\div 4 = 5\\)\n",
    "\n"
   ]
  },
  {
   "cell_type": "code",
   "execution_count": 8,
   "id": "319397e8",
   "metadata": {},
   "outputs": [
    {
     "data": {
      "text/plain": [
       "65"
      ]
     },
     "execution_count": 8,
     "metadata": {},
     "output_type": "execute_result"
    }
   ],
   "source": [
    "(7*8)+9"
   ]
  },
  {
   "cell_type": "code",
   "execution_count": 11,
   "id": "0f160f5b",
   "metadata": {},
   "outputs": [
    {
     "name": "stdout",
     "output_type": "stream",
     "text": [
      "2.5\n"
     ]
    }
   ],
   "source": [
    "minutes = 150\n",
    "hours = minutes / 60\n",
    "print(hours)"
   ]
  },
  {
   "cell_type": "markdown",
   "id": "25a994a9",
   "metadata": {},
   "source": [
    "**Objectives:**\n",
    "\n",
    "- Learn popular languages for Data Science like: SQL, R, Python, C, C++, Java.\n",
    "- Discuss key concepts in Machine Learning and NLP.\n",
    "- Explore data visualization techniques and predictive modelling.\n",
    "- Practices for data cleaning and preprocessing.\n",
    "- Demonstrate how to build and evaluate predictive models.\n"
   ]
  },
  {
   "cell_type": "markdown",
   "id": "6dbb7300",
   "metadata": {},
   "source": [
    "## Author\n",
    "Ayush Gour"
   ]
  }
 ],
 "metadata": {
  "kernelspec": {
   "display_name": "Python 3 (ipykernel)",
   "language": "python",
   "name": "python3"
  },
  "language_info": {
   "codemirror_mode": {
    "name": "ipython",
    "version": 3
   },
   "file_extension": ".py",
   "mimetype": "text/x-python",
   "name": "python",
   "nbconvert_exporter": "python",
   "pygments_lexer": "ipython3",
   "version": "3.11.4"
  }
 },
 "nbformat": 4,
 "nbformat_minor": 5
}
